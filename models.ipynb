{
 "cells": [
  {
   "cell_type": "markdown",
   "metadata": {},
   "source": [
    "# Introduction\n",
    "This notebook cleans tweets and then **trains successive sequential neural networks in order to generate labels on the remaining ~8,000 data points.** The first NN is trained (and validated) on a split of the 2,014 tweets I manually labeled in the notebook `data_labeling.ipynb`. This NN then predicts labels on another batch of tweets, and the process is repeated until all tweets have been labeled."
   ]
  },
  {
   "cell_type": "markdown",
   "metadata": {},
   "source": [
    "# Libraries"
   ]
  },
  {
   "cell_type": "code",
   "execution_count": 1,
   "metadata": {},
   "outputs": [
    {
     "name": "stderr",
     "output_type": "stream",
     "text": [
      "Using TensorFlow backend.\n"
     ]
    }
   ],
   "source": [
    "import pandas as pd\n",
    "pd.set_option(\"max_columns\", None)\n",
    "pd.set_option('display.max_colwidth', -1)\n",
    "\n",
    "import json\n",
    "\n",
    "import numpy as np\n",
    "np.random.seed(0)\n",
    "\n",
    "import nltk\n",
    "from nltk.corpus import stopwords\n",
    "stop_words = stopwords.words('english')\n",
    "from nltk.stem import PorterStemmer \n",
    "from nltk.tokenize import word_tokenize \n",
    "\n",
    "from keras.preprocessing.sequence import pad_sequences\n",
    "from keras.layers import Input, Dense, LSTM, Embedding\n",
    "from keras.layers import Dropout, Activation, Bidirectional, GlobalMaxPool1D, GlobalAveragePooling1D\n",
    "from keras.models import Sequential\n",
    "from keras import initializers, regularizers, constraints, optimizers, layers\n",
    "from keras.preprocessing import text, sequence\n",
    "from keras.optimizers import RMSprop, Adam\n",
    "\n",
    "from sklearn.model_selection import train_test_split\n",
    "\n",
    "import re\n",
    "\n",
    "import string\n",
    "\n",
    "import matplotlib.pyplot as plt\n",
    "%matplotlib inline"
   ]
  },
  {
   "cell_type": "markdown",
   "metadata": {},
   "source": [
    "## Visualization Helper Function"
   ]
  },
  {
   "cell_type": "markdown",
   "metadata": {},
   "source": [
    "This function is used to help visualize model performance, and will be called after each model's fitting."
   ]
  },
  {
   "cell_type": "code",
   "execution_count": 2,
   "metadata": {},
   "outputs": [],
   "source": [
    "def visualize_training_results(results):\n",
    "    history = results.history\n",
    "    plt.figure()\n",
    "    plt.plot(history['val_loss'])\n",
    "    plt.plot(history['loss'])\n",
    "    plt.legend(['val_loss', 'loss'])\n",
    "    plt.title('Loss')\n",
    "    plt.xlabel('Epochs')\n",
    "    plt.ylabel('Loss')\n",
    "    plt.show()\n",
    "    \n",
    "    plt.figure()\n",
    "    plt.plot(history['val_acc'])\n",
    "    plt.plot(history['acc'])\n",
    "    plt.legend(['val_acc', 'acc'])\n",
    "    plt.title('Accuracy')\n",
    "    plt.xlabel('Epochs')\n",
    "    plt.ylabel('Accuracy')\n",
    "    plt.show()"
   ]
  },
  {
   "cell_type": "markdown",
   "metadata": {},
   "source": [
    "# Import Data And Labels"
   ]
  },
  {
   "cell_type": "markdown",
   "metadata": {},
   "source": [
    "Here I'm just building the DF from saved Twitter data and adding the labels from `data_labeling.ipynb`."
   ]
  },
  {
   "cell_type": "code",
   "execution_count": 3,
   "metadata": {},
   "outputs": [],
   "source": [
    "tweet_list = []\n",
    "for i in range(102):\n",
    "    with open(f'data_no_RT/data_{i}.txt') as f:\n",
    "        temp_f = json.load(f)\n",
    "    for x in range(len(temp_f['statuses'])):\n",
    "        tweet_list.append(temp_f['statuses'][x]['full_text'])"
   ]
  },
  {
   "cell_type": "code",
   "execution_count": 4,
   "metadata": {},
   "outputs": [],
   "source": [
    "df = pd.DataFrame(tweet_list)\n",
    "df.rename(columns = {0:'tweet'}, inplace=True)\n",
    "df['sentiment'] = 'unlabeled'"
   ]
  },
  {
   "cell_type": "code",
   "execution_count": 5,
   "metadata": {},
   "outputs": [
    {
     "data": {
      "text/plain": [
       "unlabeled    8147\n",
       "2            992 \n",
       "3            554 \n",
       "1            468 \n",
       "             3   \n",
       "Name: sentiment, dtype: int64"
      ]
     },
     "execution_count": 5,
     "metadata": {},
     "output_type": "execute_result"
    }
   ],
   "source": [
    "with open('labels/labels.txt') as f:\n",
    "    sentiment_list = json.load(f)\n",
    "df['sentiment'] = sentiment_list\n",
    "df['sentiment'].value_counts()"
   ]
  },
  {
   "cell_type": "code",
   "execution_count": 6,
   "metadata": {},
   "outputs": [],
   "source": [
    "df = df[df['sentiment'] != \"\"]"
   ]
  },
  {
   "cell_type": "code",
   "execution_count": 7,
   "metadata": {},
   "outputs": [
    {
     "data": {
      "text/html": [
       "<div>\n",
       "<style scoped>\n",
       "    .dataframe tbody tr th:only-of-type {\n",
       "        vertical-align: middle;\n",
       "    }\n",
       "\n",
       "    .dataframe tbody tr th {\n",
       "        vertical-align: top;\n",
       "    }\n",
       "\n",
       "    .dataframe thead th {\n",
       "        text-align: right;\n",
       "    }\n",
       "</style>\n",
       "<table border=\"1\" class=\"dataframe\">\n",
       "  <thead>\n",
       "    <tr style=\"text-align: right;\">\n",
       "      <th></th>\n",
       "      <th>tweet</th>\n",
       "      <th>sentiment</th>\n",
       "    </tr>\n",
       "  </thead>\n",
       "  <tbody>\n",
       "    <tr>\n",
       "      <td>0</td>\n",
       "      <td>@chrisfit229 I just meant the amazon link friend. 😭😭😭 TY!</td>\n",
       "      <td>unlabeled</td>\n",
       "    </tr>\n",
       "    <tr>\n",
       "      <td>1</td>\n",
       "      <td>If you don’t like horror movies, which I don’t, October is a shit month for new release movies, on sky, Netflix and Amazon,</td>\n",
       "      <td>unlabeled</td>\n",
       "    </tr>\n",
       "    <tr>\n",
       "      <td>2</td>\n",
       "      <td>Doing this webcomic/art thing again. I've been practicing a lot. Maybe a few pairs of giant breasts and some #deltporn can help drown out the negativity on the Internet.\\n#artwip #comics #drawing #busty #waifu #amazon #snusnu https://t.co/sBle5g5TNe</td>\n",
       "      <td>3</td>\n",
       "    </tr>\n",
       "    <tr>\n",
       "      <td>3</td>\n",
       "      <td>@Poetryman551 A late-night phone call, a missing kid, a murdered family, and no one is talking. A promise made and kept though it might mean a 15 yr old's death. #blackrosewriting @brwpublisher #thriller #crime KDP Select at Amazon at https://t.co/CmuXmKEppI\\nprint at https://t.co/JtshcAQvAy</td>\n",
       "      <td>1</td>\n",
       "    </tr>\n",
       "    <tr>\n",
       "      <td>4</td>\n",
       "      <td>Do YOU have all these stand alone stories? #LunaLakeCabins by our @Annie_Acorn Start with Luna Lake Cabins-The First Year https://t.co/C1QYZixP1d #AppleBooks #Kobo #Nook #Walmart #Romance #BestRead #Bookplugs #SNRTG #BYNR #authorRT https://t.co/dXpsmKX8N9</td>\n",
       "      <td>unlabeled</td>\n",
       "    </tr>\n",
       "    <tr>\n",
       "      <td>5</td>\n",
       "      <td>@GBR2909 @AmazonUK You're not riding this by yourself. It gets worse every day. Guess what? Amazon doesn't give a damn!</td>\n",
       "      <td>unlabeled</td>\n",
       "    </tr>\n",
       "    <tr>\n",
       "      <td>6</td>\n",
       "      <td>@femmina i would mix her medicine with this stuff and it helped.  the smell is so strong it's hard to notice there's anything else mixed in.  https://t.co/udsxxO5Zqy</td>\n",
       "      <td>3</td>\n",
       "    </tr>\n",
       "    <tr>\n",
       "      <td>7</td>\n",
       "      <td>Best belive imma take advantage of my amazon prime account</td>\n",
       "      <td>3</td>\n",
       "    </tr>\n",
       "    <tr>\n",
       "      <td>8</td>\n",
       "      <td>“I get more business from sitting on this barstool than advertising in any publication, including Tobin’s Spirit Guide.” https://t.co/tUe6D2j7sJ #amwriting #booknerd</td>\n",
       "      <td>unlabeled</td>\n",
       "    </tr>\n",
       "    <tr>\n",
       "      <td>9</td>\n",
       "      <td>Well check this out. Gluttony is already available for purchase. If you’re looking for the story of a demanding boss who suddenly discovers how desperately she really needs the taste of her assistant’s cream... today is your lucky day. \\n\\nhttps://t.co/nQSJK5oHC5 https://t.co/H0dPuwLHUm</td>\n",
       "      <td>2</td>\n",
       "    </tr>\n",
       "    <tr>\n",
       "      <td>10</td>\n",
       "      <td>#Amazon near tipping point of switching from #rainforest to #savannah – study https://t.co/oRuuZb0yol #environment #climatechange</td>\n",
       "      <td>unlabeled</td>\n",
       "    </tr>\n",
       "    <tr>\n",
       "      <td>11</td>\n",
       "      <td>I really hope Amazon do the behind the scenes documentary with United so we can actually see what these cowboys get up to😂 #MUFC</td>\n",
       "      <td>unlabeled</td>\n",
       "    </tr>\n",
       "    <tr>\n",
       "      <td>12</td>\n",
       "      <td>@Amberm2012 Thanks for the opportunity and support! 🙂 Here’s the first of three books to consider: https://t.co/ZQF7ZwXHH8</td>\n",
       "      <td>3</td>\n",
       "    </tr>\n",
       "    <tr>\n",
       "      <td>13</td>\n",
       "      <td>@Ginalagrippe1 Hi there! Fancy a spooky book?Then consider to check out “Who’s There?” a horror anthology @KirkusReviews calls “Entrancing &amp;amp; unnerving”\\nEnter the GIVEAWAY here to get a FREE copy: https://t.co/2X9qS3R01p\\nOr buy it here: https://t.co/TDGursgTEe \\nIt’s FREE on #KU! #whosthere https://t.co/aVVB3MKjdb</td>\n",
       "      <td>unlabeled</td>\n",
       "    </tr>\n",
       "    <tr>\n",
       "      <td>14</td>\n",
       "      <td>Check out \"Glad I've Got Jesus (Live)\" by The Canton Spirituals on Amazon Music. https://t.co/36wC5LnIUl</td>\n",
       "      <td>unlabeled</td>\n",
       "    </tr>\n",
       "  </tbody>\n",
       "</table>\n",
       "</div>"
      ],
      "text/plain": [
       "                                                                                                                                                                                                                                                                                                                               tweet  \\\n",
       "0   @chrisfit229 I just meant the amazon link friend. 😭😭😭 TY!                                                                                                                                                                                                                                                                          \n",
       "1   If you don’t like horror movies, which I don’t, October is a shit month for new release movies, on sky, Netflix and Amazon,                                                                                                                                                                                                        \n",
       "2   Doing this webcomic/art thing again. I've been practicing a lot. Maybe a few pairs of giant breasts and some #deltporn can help drown out the negativity on the Internet.\\n#artwip #comics #drawing #busty #waifu #amazon #snusnu https://t.co/sBle5g5TNe                                                                          \n",
       "3   @Poetryman551 A late-night phone call, a missing kid, a murdered family, and no one is talking. A promise made and kept though it might mean a 15 yr old's death. #blackrosewriting @brwpublisher #thriller #crime KDP Select at Amazon at https://t.co/CmuXmKEppI\\nprint at https://t.co/JtshcAQvAy                               \n",
       "4   Do YOU have all these stand alone stories? #LunaLakeCabins by our @Annie_Acorn Start with Luna Lake Cabins-The First Year https://t.co/C1QYZixP1d #AppleBooks #Kobo #Nook #Walmart #Romance #BestRead #Bookplugs #SNRTG #BYNR #authorRT https://t.co/dXpsmKX8N9                                                                    \n",
       "5   @GBR2909 @AmazonUK You're not riding this by yourself. It gets worse every day. Guess what? Amazon doesn't give a damn!                                                                                                                                                                                                            \n",
       "6   @femmina i would mix her medicine with this stuff and it helped.  the smell is so strong it's hard to notice there's anything else mixed in.  https://t.co/udsxxO5Zqy                                                                                                                                                              \n",
       "7   Best belive imma take advantage of my amazon prime account                                                                                                                                                                                                                                                                         \n",
       "8   “I get more business from sitting on this barstool than advertising in any publication, including Tobin’s Spirit Guide.” https://t.co/tUe6D2j7sJ #amwriting #booknerd                                                                                                                                                              \n",
       "9   Well check this out. Gluttony is already available for purchase. If you’re looking for the story of a demanding boss who suddenly discovers how desperately she really needs the taste of her assistant’s cream... today is your lucky day. \\n\\nhttps://t.co/nQSJK5oHC5 https://t.co/H0dPuwLHUm                                    \n",
       "10  #Amazon near tipping point of switching from #rainforest to #savannah – study https://t.co/oRuuZb0yol #environment #climatechange                                                                                                                                                                                                  \n",
       "11  I really hope Amazon do the behind the scenes documentary with United so we can actually see what these cowboys get up to😂 #MUFC                                                                                                                                                                                                   \n",
       "12  @Amberm2012 Thanks for the opportunity and support! 🙂 Here’s the first of three books to consider: https://t.co/ZQF7ZwXHH8                                                                                                                                                                                                         \n",
       "13  @Ginalagrippe1 Hi there! Fancy a spooky book?Then consider to check out “Who’s There?” a horror anthology @KirkusReviews calls “Entrancing &amp; unnerving”\\nEnter the GIVEAWAY here to get a FREE copy: https://t.co/2X9qS3R01p\\nOr buy it here: https://t.co/TDGursgTEe \\nIt’s FREE on #KU! #whosthere https://t.co/aVVB3MKjdb   \n",
       "14  Check out \"Glad I've Got Jesus (Live)\" by The Canton Spirituals on Amazon Music. https://t.co/36wC5LnIUl                                                                                                                                                                                                                           \n",
       "\n",
       "    sentiment  \n",
       "0   unlabeled  \n",
       "1   unlabeled  \n",
       "2   3          \n",
       "3   1          \n",
       "4   unlabeled  \n",
       "5   unlabeled  \n",
       "6   3          \n",
       "7   3          \n",
       "8   unlabeled  \n",
       "9   2          \n",
       "10  unlabeled  \n",
       "11  unlabeled  \n",
       "12  3          \n",
       "13  unlabeled  \n",
       "14  unlabeled  "
      ]
     },
     "execution_count": 7,
     "metadata": {},
     "output_type": "execute_result"
    }
   ],
   "source": [
    "df.head(15)"
   ]
  },
  {
   "cell_type": "markdown",
   "metadata": {},
   "source": [
    "# Stemming And Data Preparation"
   ]
  },
  {
   "cell_type": "markdown",
   "metadata": {},
   "source": [
    "## `stem_clean()` Function"
   ]
  },
  {
   "cell_type": "markdown",
   "metadata": {},
   "source": [
    "**Stemming is being used to reduce the complexity and size of the total vocabulary in this dataset.** Since Twitter users can input whatever they want as a word, there's quite a variety. Stemming these words (while not always change-producing) will help to cut down this massive number of unique character strings. The following function does just that, as well as some other **basic cleaning and tokenization.**"
   ]
  },
  {
   "cell_type": "code",
   "execution_count": 8,
   "metadata": {},
   "outputs": [],
   "source": [
    "ps = PorterStemmer() "
   ]
  },
  {
   "cell_type": "code",
   "execution_count": 9,
   "metadata": {},
   "outputs": [],
   "source": [
    "def stem_clean(text):\n",
    "    '''\n",
    "    Takes in a piece of text and cleans and stems it. Removes all punctuation,\n",
    "    URL's, usernames, and hashtags. Sets everything to lowercase, tokenizes,\n",
    "    removes stopwords, stems and returns it as a list of tokens.\n",
    "    ---\n",
    "    text\n",
    "        String input to be cleaned.\n",
    "    '''\n",
    "    stop_words = stopwords.words(\"english\")\n",
    "    \n",
    "    text = re.sub('@\\S+', '', text)\n",
    "    text = re.sub('http\\S+', '', text)\n",
    "    text = re.sub('#\\S+', '', text)\n",
    "    for i in string.punctuation:\n",
    "        text = text.replace(i, '').lower()\n",
    "    \n",
    "    tokens = nltk.word_tokenize(text)\n",
    "    new_tokens = []\n",
    "    for token in tokens:\n",
    "        if token.lower() not in stop_words:\n",
    "            new_tokens.append(ps.stem(token))\n",
    "            \n",
    "    return new_tokens"
   ]
  },
  {
   "cell_type": "code",
   "execution_count": 10,
   "metadata": {},
   "outputs": [],
   "source": [
    "df_stem = df.copy()"
   ]
  },
  {
   "cell_type": "code",
   "execution_count": 11,
   "metadata": {},
   "outputs": [],
   "source": [
    "df_stem.tweet = df_stem.tweet.map(stem_clean)"
   ]
  },
  {
   "cell_type": "code",
   "execution_count": 12,
   "metadata": {},
   "outputs": [
    {
     "data": {
      "text/html": [
       "<div>\n",
       "<style scoped>\n",
       "    .dataframe tbody tr th:only-of-type {\n",
       "        vertical-align: middle;\n",
       "    }\n",
       "\n",
       "    .dataframe tbody tr th {\n",
       "        vertical-align: top;\n",
       "    }\n",
       "\n",
       "    .dataframe thead th {\n",
       "        text-align: right;\n",
       "    }\n",
       "</style>\n",
       "<table border=\"1\" class=\"dataframe\">\n",
       "  <thead>\n",
       "    <tr style=\"text-align: right;\">\n",
       "      <th></th>\n",
       "      <th>tweet</th>\n",
       "      <th>sentiment</th>\n",
       "    </tr>\n",
       "  </thead>\n",
       "  <tbody>\n",
       "    <tr>\n",
       "      <td>0</td>\n",
       "      <td>[meant, amazon, link, friend, 😭😭😭, ty]</td>\n",
       "      <td>unlabeled</td>\n",
       "    </tr>\n",
       "    <tr>\n",
       "      <td>1</td>\n",
       "      <td>[’, like, horror, movi, ’, octob, shit, month, new, releas, movi, sky, netflix, amazon]</td>\n",
       "      <td>unlabeled</td>\n",
       "    </tr>\n",
       "    <tr>\n",
       "      <td>2</td>\n",
       "      <td>[webcomicart, thing, ive, practic, lot, mayb, pair, giant, breast, help, drown, neg, internet]</td>\n",
       "      <td>3</td>\n",
       "    </tr>\n",
       "    <tr>\n",
       "      <td>3</td>\n",
       "      <td>[latenight, phone, call, miss, kid, murder, famili, one, talk, promis, made, kept, though, might, mean, 15, yr, old, death, kdp, select, amazon, print]</td>\n",
       "      <td>1</td>\n",
       "    </tr>\n",
       "    <tr>\n",
       "      <td>4</td>\n",
       "      <td>[stand, alon, stori, start, luna, lake, cabinsth, first, year]</td>\n",
       "      <td>unlabeled</td>\n",
       "    </tr>\n",
       "  </tbody>\n",
       "</table>\n",
       "</div>"
      ],
      "text/plain": [
       "                                                                                                                                                     tweet  \\\n",
       "0  [meant, amazon, link, friend, 😭😭😭, ty]                                                                                                                    \n",
       "1  [’, like, horror, movi, ’, octob, shit, month, new, releas, movi, sky, netflix, amazon]                                                                   \n",
       "2  [webcomicart, thing, ive, practic, lot, mayb, pair, giant, breast, help, drown, neg, internet]                                                            \n",
       "3  [latenight, phone, call, miss, kid, murder, famili, one, talk, promis, made, kept, though, might, mean, 15, yr, old, death, kdp, select, amazon, print]   \n",
       "4  [stand, alon, stori, start, luna, lake, cabinsth, first, year]                                                                                            \n",
       "\n",
       "   sentiment  \n",
       "0  unlabeled  \n",
       "1  unlabeled  \n",
       "2  3          \n",
       "3  1          \n",
       "4  unlabeled  "
      ]
     },
     "execution_count": 12,
     "metadata": {},
     "output_type": "execute_result"
    }
   ],
   "source": [
    "df_stem.head()"
   ]
  },
  {
   "cell_type": "markdown",
   "metadata": {},
   "source": [
    "As we can see, the tweets from above have been made shorter and much less difficult to read. They also contain truncated words such as `'movi'` and `'stori'`."
   ]
  },
  {
   "cell_type": "markdown",
   "metadata": {},
   "source": [
    "## Prepping Stemmed DataFrame For Modeling"
   ]
  },
  {
   "cell_type": "markdown",
   "metadata": {},
   "source": [
    "Below, another function `data_to_sequences` will be defined that **prepares the lists of tokenized strings above for neural network modeling.** We must get the strings in a more computer-friendly form, and in our case, that is by turning them into **padded arrays** where each numerical value in the array represents a unique word within the `total_vocabulary`."
   ]
  },
  {
   "cell_type": "markdown",
   "metadata": {},
   "source": [
    "First we need to instantiate a `Tokenizer` based on the `total_vocab` of our dataset:"
   ]
  },
  {
   "cell_type": "code",
   "execution_count": 13,
   "metadata": {},
   "outputs": [
    {
     "data": {
      "text/plain": [
       "16212"
      ]
     },
     "execution_count": 13,
     "metadata": {},
     "output_type": "execute_result"
    }
   ],
   "source": [
    "total_vocab_stem = set(word for text in df_stem['tweet'] for word in text)\n",
    "len(total_vocab_stem)"
   ]
  },
  {
   "cell_type": "code",
   "execution_count": 14,
   "metadata": {},
   "outputs": [],
   "source": [
    "tokenizer = text.Tokenizer(num_words = len(total_vocab_stem))\n",
    "tokenizer.fit_on_texts(list(df_stem['tweet']))"
   ]
  },
  {
   "cell_type": "markdown",
   "metadata": {},
   "source": [
    "We then should also find out what the longest tweet in our dataset is. No need to pad the sequences any longer than this:"
   ]
  },
  {
   "cell_type": "code",
   "execution_count": 15,
   "metadata": {},
   "outputs": [
    {
     "data": {
      "text/plain": [
       "45"
      ]
     },
     "execution_count": 15,
     "metadata": {},
     "output_type": "execute_result"
    }
   ],
   "source": [
    "length_list = []\n",
    "for i in range(len(df_stem)):\n",
    "    length_list.append(len(df_stem.iloc[i]['tweet']))\n",
    "max(length_list)"
   ]
  },
  {
   "cell_type": "markdown",
   "metadata": {},
   "source": [
    "Then we can define a function that calls that `Tokenizer` on a batch of tweets:"
   ]
  },
  {
   "cell_type": "code",
   "execution_count": 16,
   "metadata": {},
   "outputs": [],
   "source": [
    "def data_to_sequences(df):\n",
    "    '''\n",
    "    Takes in a Pandas DataFrame and returns a list of padded tokenized arrays.\n",
    "    ---\n",
    "    df\n",
    "        Pandas DataFrame. Must have ['tweet'] as a column.\n",
    "    '''\n",
    "    list_tokenized_tweets = tokenizer.texts_to_sequences(df['tweet'])\n",
    "    return sequence.pad_sequences(list_tokenized_tweets, maxlen = 45)"
   ]
  },
  {
   "cell_type": "markdown",
   "metadata": {},
   "source": [
    "And then we can use it on our dataset and pass it along to our model, after first selecting out only the labeled tweets to fit on:"
   ]
  },
  {
   "cell_type": "code",
   "execution_count": 17,
   "metadata": {},
   "outputs": [
    {
     "data": {
      "text/plain": [
       "2014"
      ]
     },
     "execution_count": 17,
     "metadata": {},
     "output_type": "execute_result"
    }
   ],
   "source": [
    "df_label_stem = df_stem[df_stem['sentiment'] != 'unlabeled']\n",
    "len(df_label_stem)"
   ]
  },
  {
   "cell_type": "code",
   "execution_count": 18,
   "metadata": {},
   "outputs": [],
   "source": [
    "X = data_to_sequences(df_label_stem)\n",
    "y = pd.get_dummies(df_label_stem['sentiment']).values\n",
    "\n",
    "X_train_stem, X_test_stem, y_train_stem, y_test_stem = train_test_split(X, y, test_size = 0.2, random_state=0)"
   ]
  },
  {
   "cell_type": "markdown",
   "metadata": {},
   "source": [
    "Here's an example of what the data will look like as it's fed into the neural network:"
   ]
  },
  {
   "cell_type": "code",
   "execution_count": 19,
   "metadata": {},
   "outputs": [
    {
     "data": {
      "text/plain": [
       "array([   0,    0,    0,    0,    0,    0,    0,    0,    0,    0,    0,\n",
       "          0,    0,    0,    0,    0,    0,    0,    0,    0,    0,    0,\n",
       "          0,    0,    0,    0,    0,    0,    0,    0,    0,    0,    0,\n",
       "          0,    0,    0, 3686, 4353,  970,  122, 2378, 1054, 2609,   49,\n",
       "        306])"
      ]
     },
     "execution_count": 19,
     "metadata": {},
     "output_type": "execute_result"
    }
   ],
   "source": [
    "X_train_stem[0]"
   ]
  },
  {
   "cell_type": "code",
   "execution_count": 20,
   "metadata": {},
   "outputs": [
    {
     "data": {
      "text/plain": [
       "array([0, 0, 1], dtype=uint8)"
      ]
     },
     "execution_count": 20,
     "metadata": {},
     "output_type": "execute_result"
    }
   ],
   "source": [
    "y_train_stem[0]"
   ]
  },
  {
   "cell_type": "markdown",
   "metadata": {},
   "source": [
    "# Stem Model 1 - Baseline"
   ]
  },
  {
   "cell_type": "markdown",
   "metadata": {},
   "source": [
    "This model follows a pretty basic NLP setup. It takes in the word embeddings, has a layer of long-short-term memory, and then implements pooling, dropout, and regularization to avoid overfitting."
   ]
  },
  {
   "cell_type": "code",
   "execution_count": 21,
   "metadata": {},
   "outputs": [],
   "source": [
    "stem_model = Sequential()"
   ]
  },
  {
   "cell_type": "code",
   "execution_count": 22,
   "metadata": {},
   "outputs": [],
   "source": [
    "embed_in = len(total_vocab_stem)\n",
    "embed_out = max(length_list)\n",
    "lambda_coeff = 0.1\n",
    "\n",
    "stem_model.add(Embedding(embed_in, embed_out))\n",
    "stem_model.add(LSTM(8, return_sequences=True))\n",
    "stem_model.add(GlobalMaxPool1D())\n",
    "stem_model.add(Dropout(0.4))\n",
    "stem_model.add(Dense(25, activation='tanh', kernel_regularizer=regularizers.l2(lambda_coeff)))\n",
    "stem_model.add(Dense(3, activation='softmax'))"
   ]
  },
  {
   "cell_type": "code",
   "execution_count": 23,
   "metadata": {},
   "outputs": [],
   "source": [
    "stem_model.compile(loss='categorical_crossentropy',\n",
    "                   optimizer='Adam',\n",
    "                   metrics=['accuracy'])"
   ]
  },
  {
   "cell_type": "code",
   "execution_count": 24,
   "metadata": {
    "scrolled": true
   },
   "outputs": [
    {
     "name": "stdout",
     "output_type": "stream",
     "text": [
      "Train on 1127 samples, validate on 484 samples\n",
      "Epoch 1/20\n",
      "1127/1127 [==============================] - 3s 2ms/step - loss: 2.2370 - acc: 0.4241 - val_loss: 2.0541 - val_acc: 0.5083\n",
      "Epoch 2/20\n",
      "1127/1127 [==============================] - 2s 2ms/step - loss: 1.9271 - acc: 0.4783 - val_loss: 1.7872 - val_acc: 0.5083\n",
      "Epoch 3/20\n",
      "1127/1127 [==============================] - 2s 2ms/step - loss: 1.6908 - acc: 0.4783 - val_loss: 1.5860 - val_acc: 0.5083\n",
      "Epoch 4/20\n",
      "1127/1127 [==============================] - 2s 2ms/step - loss: 1.4928 - acc: 0.4916 - val_loss: 1.4164 - val_acc: 0.5165\n",
      "Epoch 5/20\n",
      "1127/1127 [==============================] - 2s 2ms/step - loss: 1.2836 - acc: 0.5892 - val_loss: 1.2607 - val_acc: 0.5950\n",
      "Epoch 6/20\n",
      "1127/1127 [==============================] - 2s 2ms/step - loss: 1.0576 - acc: 0.6708 - val_loss: 1.1682 - val_acc: 0.5826\n",
      "Epoch 7/20\n",
      "1127/1127 [==============================] - 2s 2ms/step - loss: 0.8709 - acc: 0.6965 - val_loss: 1.1284 - val_acc: 0.5909\n",
      "Epoch 8/20\n",
      "1127/1127 [==============================] - 2s 2ms/step - loss: 0.7310 - acc: 0.7879 - val_loss: 1.1214 - val_acc: 0.5744\n",
      "Epoch 9/20\n",
      "1127/1127 [==============================] - 2s 2ms/step - loss: 0.6432 - acc: 0.8385 - val_loss: 1.1414 - val_acc: 0.5806\n",
      "Epoch 10/20\n",
      "1127/1127 [==============================] - 2s 2ms/step - loss: 0.5598 - acc: 0.8749 - val_loss: 1.1716 - val_acc: 0.5682\n",
      "Epoch 11/20\n",
      "1127/1127 [==============================] - 2s 2ms/step - loss: 0.4886 - acc: 0.9113 - val_loss: 1.1752 - val_acc: 0.5640\n",
      "Epoch 12/20\n",
      "1127/1127 [==============================] - 2s 2ms/step - loss: 0.4458 - acc: 0.9343 - val_loss: 1.2208 - val_acc: 0.5579\n",
      "Epoch 13/20\n",
      "1127/1127 [==============================] - 2s 2ms/step - loss: 0.4144 - acc: 0.9406 - val_loss: 1.3039 - val_acc: 0.5558\n",
      "Epoch 14/20\n",
      "1127/1127 [==============================] - 2s 2ms/step - loss: 0.3822 - acc: 0.9521 - val_loss: 1.3172 - val_acc: 0.5785\n",
      "Epoch 15/20\n",
      "1127/1127 [==============================] - 2s 2ms/step - loss: 0.3613 - acc: 0.9512 - val_loss: 1.3491 - val_acc: 0.5537\n",
      "Epoch 16/20\n",
      "1127/1127 [==============================] - 2s 2ms/step - loss: 0.3372 - acc: 0.9583 - val_loss: 1.3560 - val_acc: 0.5599\n",
      "Epoch 17/20\n",
      "1127/1127 [==============================] - 2s 2ms/step - loss: 0.3183 - acc: 0.9618 - val_loss: 1.4099 - val_acc: 0.5620\n",
      "Epoch 18/20\n",
      "1127/1127 [==============================] - 2s 2ms/step - loss: 0.2843 - acc: 0.9645 - val_loss: 1.4019 - val_acc: 0.5475\n",
      "Epoch 19/20\n",
      "1127/1127 [==============================] - 2s 2ms/step - loss: 0.2972 - acc: 0.9494 - val_loss: 1.4629 - val_acc: 0.5537\n",
      "Epoch 20/20\n",
      "1127/1127 [==============================] - 2s 2ms/step - loss: 0.2734 - acc: 0.9627 - val_loss: 1.5027 - val_acc: 0.5496\n"
     ]
    }
   ],
   "source": [
    "stem_results = stem_model.fit(X_train_stem, y_train_stem, epochs=20, batch_size=30, validation_split=0.3)"
   ]
  },
  {
   "cell_type": "code",
   "execution_count": 25,
   "metadata": {},
   "outputs": [
    {
     "data": {
      "image/png": "[encoded data removed]",
      "text/plain": [
       "<Figure size 432x288 with 1 Axes>"
      ]
     },
     "metadata": {
      "needs_background": "light"
     },
     "output_type": "display_data"
    },
    {
     "data": {
      "image/png": "[encoded data removed]",
      "text/plain": [
       "<Figure size 432x288 with 1 Axes>"
      ]
     },
     "metadata": {
      "needs_background": "light"
     },
     "output_type": "display_data"
    }
   ],
   "source": [
    "visualize_training_results(stem_results)"
   ]
  },
  {
   "cell_type": "markdown",
   "metadata": {},
   "source": [
    "## Saving Model"
   ]
  },
  {
   "cell_type": "code",
   "execution_count": 26,
   "metadata": {},
   "outputs": [],
   "source": [
    "stem_model.save('models/stem_model')"
   ]
  },
  {
   "cell_type": "markdown",
   "metadata": {},
   "source": [
    "# Recursively Labeling All The Data In Batches"
   ]
  },
  {
   "cell_type": "markdown",
   "metadata": {},
   "source": [
    "I'll now use this model to **automate the rest of the labeling process.** It will not be perfect, and in fact will likely have a sizable inherited error--The `val_acc` shortcomings of the first model will compound into the next and so on. Time and labor-cost restrictions have prevented me from getting more labels on this data, which would *absolutely* improve accuracy all around. There is no doubt.\n",
    "\n",
    "The full dataset contains **10161 tweets,** 2014 of which have been manually labeled. We now need to **apply labels to these remaining 8147 tweets.** The gist of how this will be done is:\n",
    "- Get 1000 unlabeled tweets from the stemmed DataFrame.\n",
    "- Use most recent model to predict their labels.\n",
    "- Assign predicted labels to those same 1000 tweets.\n",
    "- Create a new neural network, using these 3014 labeled tweets.\n",
    "- Repeat process until all tweets labeled, pulling 50% as many unlabeled tweets as there are total labeled tweets at any given iteration."
   ]
  },
  {
   "cell_type": "markdown",
   "metadata": {},
   "source": [
    "## `df_to_label` And Batches To Label"
   ]
  },
  {
   "cell_type": "markdown",
   "metadata": {},
   "source": [
    "As described above, I'm now pulling out 4 batches of data to label, each larger than the last, til every unlabeled tweet is part of a batch."
   ]
  },
  {
   "cell_type": "code",
   "execution_count": 27,
   "metadata": {},
   "outputs": [
    {
     "data": {
      "text/plain": [
       "8147"
      ]
     },
     "execution_count": 27,
     "metadata": {},
     "output_type": "execute_result"
    }
   ],
   "source": [
    "df_to_label = df_stem[df_stem['sentiment'] == 'unlabeled']\n",
    "len(df_to_label)"
   ]
  },
  {
   "cell_type": "code",
   "execution_count": 28,
   "metadata": {},
   "outputs": [],
   "source": [
    "batch_1 = df_to_label[:1000]\n",
    "batch_2 = df_to_label[1001:2500]\n",
    "batch_3 = df_to_label[2501:4750]\n",
    "batch_4 = df_to_label[4751:8147]"
   ]
  },
  {
   "cell_type": "markdown",
   "metadata": {},
   "source": [
    "## `label_batch()` Function"
   ]
  },
  {
   "cell_type": "code",
   "execution_count": 29,
   "metadata": {
    "scrolled": true
   },
   "outputs": [],
   "source": [
    "def label_batch(batch, model):\n",
    "    '''\n",
    "    Takes in a Pandas DataFrame, processes data and predicts sentiment.\n",
    "    ---\n",
    "    batch\n",
    "        Pandas DataFrame. Must have a column ['tweet'] that is composed of\n",
    "        list of strings for each row.\n",
    "    model\n",
    "        Trained neural network.\n",
    "    '''\n",
    "    sequences = data_to_sequences(batch)\n",
    "\n",
    "    preds = model.predict(sequences)\n",
    "\n",
    "    sent_pred = []\n",
    "\n",
    "    for i in range(len(preds)):\n",
    "        pred = list(preds[i])\n",
    "        max_pred = max(pred)\n",
    "        sent_pred.append(pred.index(max_pred) + 1)\n",
    "\n",
    "    batch['sentiment'] = sent_pred"
   ]
  },
  {
   "cell_type": "code",
   "execution_count": 30,
   "metadata": {},
   "outputs": [
    {
     "name": "stderr",
     "output_type": "stream",
     "text": [
      "C:\\Users\\Steven\\anaconda3\\envs\\learn-env\\lib\\site-packages\\ipykernel_launcher.py:22: SettingWithCopyWarning: \n",
      "A value is trying to be set on a copy of a slice from a DataFrame.\n",
      "Try using .loc[row_indexer,col_indexer] = value instead\n",
      "\n",
      "See the caveats in the documentation: http://pandas.pydata.org/pandas-docs/stable/user_guide/indexing.html#returning-a-view-versus-a-copy\n"
     ]
    }
   ],
   "source": [
    "label_batch(batch_1, stem_model)"
   ]
  },
  {
   "cell_type": "code",
   "execution_count": 31,
   "metadata": {},
   "outputs": [],
   "source": [
    "df_label_stem = df_label_stem.append(batch_1).reset_index()\n",
    "# Accidentally had as string before, now had 6 unique sentiment values. Fixed:\n",
    "df_label_stem['sentiment'] = df_label_stem['sentiment'].astype(int)"
   ]
  },
  {
   "cell_type": "markdown",
   "metadata": {},
   "source": [
    "## Stem Model 2"
   ]
  },
  {
   "cell_type": "markdown",
   "metadata": {},
   "source": [
    "I will not be providing explanation for each model as they are effectively the same from here on out. Just remember that now we are retraining with slightly larger data sizes each time."
   ]
  },
  {
   "cell_type": "code",
   "execution_count": 32,
   "metadata": {},
   "outputs": [],
   "source": [
    "X = data_to_sequences(df_label_stem)\n",
    "y = pd.get_dummies(df_label_stem['sentiment']).values\n",
    "\n",
    "X_train_stem, X_test_stem, y_train_stem, y_test_stem = train_test_split(X, y, test_size = 0.2, random_state=0)"
   ]
  },
  {
   "cell_type": "code",
   "execution_count": 33,
   "metadata": {},
   "outputs": [
    {
     "name": "stdout",
     "output_type": "stream",
     "text": [
      "Train on 1687 samples, validate on 724 samples\n",
      "Epoch 1/20\n",
      "1687/1687 [==============================] - 4s 2ms/step - loss: 2.0056 - acc: 0.4594 - val_loss: 1.7938 - val_acc: 0.4820\n",
      "Epoch 2/20\n",
      "1687/1687 [==============================] - 3s 2ms/step - loss: 1.6608 - acc: 0.4665 - val_loss: 1.5246 - val_acc: 0.4820\n",
      "Epoch 3/20\n",
      "1687/1687 [==============================] - 3s 2ms/step - loss: 1.4274 - acc: 0.4665 - val_loss: 1.3333 - val_acc: 0.4820\n",
      "Epoch 4/20\n",
      "1687/1687 [==============================] - 3s 2ms/step - loss: 1.2095 - acc: 0.5424 - val_loss: 1.1379 - val_acc: 0.5829\n",
      "Epoch 5/20\n",
      "1687/1687 [==============================] - 3s 2ms/step - loss: 0.9536 - acc: 0.6657 - val_loss: 1.0333 - val_acc: 0.6119\n",
      "Epoch 6/20\n",
      "1687/1687 [==============================] - 3s 2ms/step - loss: 0.7685 - acc: 0.7718 - val_loss: 0.9936 - val_acc: 0.6243\n",
      "Epoch 7/20\n",
      "1687/1687 [==============================] - 3s 2ms/step - loss: 0.6292 - acc: 0.8477 - val_loss: 0.9888 - val_acc: 0.6423\n",
      "Epoch 8/20\n",
      "1687/1687 [==============================] - 3s 2ms/step - loss: 0.5342 - acc: 0.8785 - val_loss: 1.0215 - val_acc: 0.6285\n",
      "Epoch 9/20\n",
      "1687/1687 [==============================] - 3s 2ms/step - loss: 0.4660 - acc: 0.8963 - val_loss: 1.0401 - val_acc: 0.6285\n",
      "Epoch 10/20\n",
      "1687/1687 [==============================] - 3s 2ms/step - loss: 0.4071 - acc: 0.9158 - val_loss: 1.0239 - val_acc: 0.6354\n",
      "Epoch 11/20\n",
      "1687/1687 [==============================] - 3s 2ms/step - loss: 0.4022 - acc: 0.8980 - val_loss: 1.0277 - val_acc: 0.6174\n",
      "Epoch 12/20\n",
      "1687/1687 [==============================] - 3s 2ms/step - loss: 0.3674 - acc: 0.9099 - val_loss: 1.0802 - val_acc: 0.6133\n",
      "Epoch 13/20\n",
      "1687/1687 [==============================] - 3s 2ms/step - loss: 0.3357 - acc: 0.9182 - val_loss: 1.0693 - val_acc: 0.6243\n",
      "Epoch 14/20\n",
      "1687/1687 [==============================] - 3s 2ms/step - loss: 0.3284 - acc: 0.9188 - val_loss: 1.1367 - val_acc: 0.6340\n",
      "Epoch 15/20\n",
      "1687/1687 [==============================] - 3s 2ms/step - loss: 0.2945 - acc: 0.9324 - val_loss: 1.2141 - val_acc: 0.6202\n",
      "Epoch 16/20\n",
      "1687/1687 [==============================] - 3s 2ms/step - loss: 0.2769 - acc: 0.9407 - val_loss: 1.1763 - val_acc: 0.6077\n",
      "Epoch 17/20\n",
      "1687/1687 [==============================] - 3s 2ms/step - loss: 0.2649 - acc: 0.9354 - val_loss: 1.2010 - val_acc: 0.6229\n",
      "Epoch 18/20\n",
      "1687/1687 [==============================] - 4s 2ms/step - loss: 0.2537 - acc: 0.9425 - val_loss: 1.2530 - val_acc: 0.6174\n",
      "Epoch 19/20\n",
      "1687/1687 [==============================] - 3s 2ms/step - loss: 0.2501 - acc: 0.9366 - val_loss: 1.2583 - val_acc: 0.6133\n",
      "Epoch 20/20\n",
      "1687/1687 [==============================] - 3s 2ms/step - loss: 0.2245 - acc: 0.9490 - val_loss: 1.3506 - val_acc: 0.5994\n"
     ]
    }
   ],
   "source": [
    "stem_model_2 = Sequential()\n",
    "\n",
    "embed_in = len(total_vocab_stem)\n",
    "embed_out = max(length_list)\n",
    "lambda_coeff = 0.1\n",
    "\n",
    "stem_model_2.add(Embedding(embed_in, embed_out))\n",
    "stem_model_2.add(LSTM(8, return_sequences=True))\n",
    "stem_model_2.add(GlobalMaxPool1D())\n",
    "stem_model_2.add(Dropout(0.4))\n",
    "stem_model_2.add(Dense(25, activation='tanh', kernel_regularizer=regularizers.l2(lambda_coeff)))\n",
    "stem_model_2.add(Dense(3, activation='softmax'))\n",
    "\n",
    "stem_model_2.compile(loss='categorical_crossentropy',\n",
    "                   optimizer='Adam',\n",
    "                   metrics=['accuracy'])\n",
    "\n",
    "stem_results_2 = stem_model_2.fit(X_train_stem, y_train_stem, epochs=20, batch_size=30, validation_split=0.3)"
   ]
  },
  {
   "cell_type": "code",
   "execution_count": 34,
   "metadata": {},
   "outputs": [
    {
     "data": {
      "image/png": "[encoded data removed]",
      "text/plain": [
       "<Figure size 432x288 with 1 Axes>"
      ]
     },
     "metadata": {
      "needs_background": "light"
     },
     "output_type": "display_data"
    },
    {
     "data": {
      "image/png": "[encoded data removed]",
      "text/plain": [
       "<Figure size 432x288 with 1 Axes>"
      ]
     },
     "metadata": {
      "needs_background": "light"
     },
     "output_type": "display_data"
    }
   ],
   "source": [
    "visualize_training_results(stem_results_2)"
   ]
  },
  {
   "cell_type": "markdown",
   "metadata": {},
   "source": [
    "### Saving Model"
   ]
  },
  {
   "cell_type": "code",
   "execution_count": 35,
   "metadata": {},
   "outputs": [],
   "source": [
    "stem_model_2.save('models/stem_model_2')"
   ]
  },
  {
   "cell_type": "markdown",
   "metadata": {},
   "source": [
    "## Batch 2 And Stem Model 3"
   ]
  },
  {
   "cell_type": "markdown",
   "metadata": {},
   "source": [
    "### Batch 2"
   ]
  },
  {
   "cell_type": "code",
   "execution_count": 36,
   "metadata": {},
   "outputs": [
    {
     "name": "stderr",
     "output_type": "stream",
     "text": [
      "C:\\Users\\Steven\\anaconda3\\envs\\learn-env\\lib\\site-packages\\ipykernel_launcher.py:22: SettingWithCopyWarning: \n",
      "A value is trying to be set on a copy of a slice from a DataFrame.\n",
      "Try using .loc[row_indexer,col_indexer] = value instead\n",
      "\n",
      "See the caveats in the documentation: http://pandas.pydata.org/pandas-docs/stable/user_guide/indexing.html#returning-a-view-versus-a-copy\n"
     ]
    }
   ],
   "source": [
    "label_batch(batch_2, stem_model_2)"
   ]
  },
  {
   "cell_type": "code",
   "execution_count": 37,
   "metadata": {},
   "outputs": [
    {
     "name": "stderr",
     "output_type": "stream",
     "text": [
      "C:\\Users\\Steven\\anaconda3\\envs\\learn-env\\lib\\site-packages\\pandas\\core\\frame.py:7123: FutureWarning: Sorting because non-concatenation axis is not aligned. A future version\n",
      "of pandas will change to not sort by default.\n",
      "\n",
      "To accept the future behavior, pass 'sort=False'.\n",
      "\n",
      "To retain the current behavior and silence the warning, pass 'sort=True'.\n",
      "\n",
      "  sort=sort,\n"
     ]
    }
   ],
   "source": [
    "df_label_stem = df_label_stem.append(batch_2).reset_index()"
   ]
  },
  {
   "cell_type": "markdown",
   "metadata": {},
   "source": [
    "### Stem Model 3"
   ]
  },
  {
   "cell_type": "code",
   "execution_count": 38,
   "metadata": {},
   "outputs": [],
   "source": [
    "X = data_to_sequences(df_label_stem)\n",
    "y = pd.get_dummies(df_label_stem['sentiment']).values\n",
    "\n",
    "X_train_stem, X_test_stem, y_train_stem, y_test_stem = train_test_split(X, y, test_size = 0.2, random_state=0)"
   ]
  },
  {
   "cell_type": "code",
   "execution_count": 39,
   "metadata": {},
   "outputs": [
    {
     "name": "stdout",
     "output_type": "stream",
     "text": [
      "Train on 2527 samples, validate on 1083 samples\n",
      "Epoch 1/20\n",
      "2527/2527 [==============================] - 6s 2ms/step - loss: 2.0502 - acc: 0.4484 - val_loss: 1.7791 - val_acc: 0.4072\n",
      "Epoch 2/20\n",
      "2527/2527 [==============================] - 5s 2ms/step - loss: 1.5662 - acc: 0.4523 - val_loss: 1.4123 - val_acc: 0.4072\n",
      "Epoch 3/20\n",
      "2527/2527 [==============================] - 5s 2ms/step - loss: 1.2365 - acc: 0.5208 - val_loss: 1.1529 - val_acc: 0.5014\n",
      "Epoch 4/20\n",
      "2527/2527 [==============================] - 4s 2ms/step - loss: 0.9486 - acc: 0.6209 - val_loss: 1.0115 - val_acc: 0.6020\n",
      "Epoch 5/20\n",
      "2527/2527 [==============================] - 4s 2ms/step - loss: 0.7366 - acc: 0.7851 - val_loss: 0.9791 - val_acc: 0.6094\n",
      "Epoch 6/20\n",
      "2527/2527 [==============================] - 5s 2ms/step - loss: 0.6052 - acc: 0.8243 - val_loss: 1.0049 - val_acc: 0.6168\n",
      "Epoch 7/20\n",
      "2527/2527 [==============================] - 5s 2ms/step - loss: 0.5086 - acc: 0.8607 - val_loss: 1.0479 - val_acc: 0.6214\n",
      "Epoch 8/20\n",
      "2527/2527 [==============================] - 5s 2ms/step - loss: 0.4410 - acc: 0.8829 - val_loss: 1.0010 - val_acc: 0.6066\n",
      "Epoch 9/20\n",
      "2527/2527 [==============================] - 5s 2ms/step - loss: 0.4076 - acc: 0.8876 - val_loss: 1.1259 - val_acc: 0.6205\n",
      "Epoch 10/20\n",
      "2527/2527 [==============================] - 4s 2ms/step - loss: 0.3573 - acc: 0.9058 - val_loss: 1.1702 - val_acc: 0.6205\n",
      "Epoch 11/20\n",
      "2527/2527 [==============================] - 5s 2ms/step - loss: 0.3466 - acc: 0.9098 - val_loss: 1.1744 - val_acc: 0.6187\n",
      "Epoch 12/20\n",
      "2527/2527 [==============================] - 6s 2ms/step - loss: 0.2968 - acc: 0.9296 - val_loss: 1.1958 - val_acc: 0.6168\n",
      "Epoch 13/20\n",
      "2527/2527 [==============================] - 5s 2ms/step - loss: 0.2769 - acc: 0.9323 - val_loss: 1.1962 - val_acc: 0.6343\n",
      "Epoch 14/20\n",
      "2527/2527 [==============================] - 5s 2ms/step - loss: 0.2905 - acc: 0.9240 - val_loss: 0.9691 - val_acc: 0.6408\n",
      "Epoch 15/20\n",
      "2527/2527 [==============================] - 4s 2ms/step - loss: 0.2682 - acc: 0.9391 - val_loss: 1.1480 - val_acc: 0.6353\n",
      "Epoch 16/20\n",
      "2527/2527 [==============================] - 4s 2ms/step - loss: 0.2470 - acc: 0.9422 - val_loss: 1.1841 - val_acc: 0.6343\n",
      "Epoch 17/20\n",
      "2527/2527 [==============================] - 5s 2ms/step - loss: 0.2322 - acc: 0.9501 - val_loss: 1.2273 - val_acc: 0.6371\n",
      "Epoch 18/20\n",
      "2527/2527 [==============================] - 5s 2ms/step - loss: 0.2219 - acc: 0.9486 - val_loss: 1.2474 - val_acc: 0.6417\n",
      "Epoch 19/20\n",
      "2527/2527 [==============================] - 5s 2ms/step - loss: 0.2093 - acc: 0.9549 - val_loss: 1.2604 - val_acc: 0.6417\n",
      "Epoch 20/20\n",
      "2527/2527 [==============================] - 4s 2ms/step - loss: 0.2096 - acc: 0.9517 - val_loss: 1.2840 - val_acc: 0.6408\n"
     ]
    }
   ],
   "source": [
    "stem_model_3 = Sequential()\n",
    "\n",
    "embed_in = len(total_vocab_stem)\n",
    "embed_out = max(length_list)\n",
    "lambda_coeff = 0.1\n",
    "\n",
    "stem_model_3.add(Embedding(embed_in, embed_out))\n",
    "stem_model_3.add(LSTM(8, return_sequences=True))\n",
    "stem_model_3.add(GlobalMaxPool1D())\n",
    "stem_model_3.add(Dropout(0.4))\n",
    "stem_model_3.add(Dense(25, activation='tanh', kernel_regularizer=regularizers.l2(lambda_coeff)))\n",
    "stem_model_3.add(Dense(3, activation='softmax'))\n",
    "\n",
    "stem_model_3.compile(loss='categorical_crossentropy',\n",
    "                   optimizer='Adam',\n",
    "                   metrics=['accuracy'])\n",
    "\n",
    "stem_results_3 = stem_model_3.fit(X_train_stem, y_train_stem, epochs=20, batch_size=30, validation_split=0.3)"
   ]
  },
  {
   "cell_type": "code",
   "execution_count": 40,
   "metadata": {},
   "outputs": [
    {
     "data": {
      "image/png": "[encoded data removed]",
      "text/plain": [
       "<Figure size 432x288 with 1 Axes>"
      ]
     },
     "metadata": {
      "needs_background": "light"
     },
     "output_type": "display_data"
    },
    {
     "data": {
      "image/png": "[encoded data removed]",
      "text/plain": [
       "<Figure size 432x288 with 1 Axes>"
      ]
     },
     "metadata": {
      "needs_background": "light"
     },
     "output_type": "display_data"
    }
   ],
   "source": [
    "visualize_training_results(stem_results_3)"
   ]
  },
  {
   "cell_type": "markdown",
   "metadata": {},
   "source": [
    "#### Saving Model"
   ]
  },
  {
   "cell_type": "code",
   "execution_count": 41,
   "metadata": {},
   "outputs": [],
   "source": [
    "stem_model_3.save('models/stem_model_3')"
   ]
  },
  {
   "cell_type": "markdown",
   "metadata": {},
   "source": [
    "## Batch 3 And Stem Model 4"
   ]
  },
  {
   "cell_type": "markdown",
   "metadata": {},
   "source": [
    "### Batch 3"
   ]
  },
  {
   "cell_type": "code",
   "execution_count": 42,
   "metadata": {},
   "outputs": [
    {
     "name": "stderr",
     "output_type": "stream",
     "text": [
      "C:\\Users\\Steven\\anaconda3\\envs\\learn-env\\lib\\site-packages\\ipykernel_launcher.py:22: SettingWithCopyWarning: \n",
      "A value is trying to be set on a copy of a slice from a DataFrame.\n",
      "Try using .loc[row_indexer,col_indexer] = value instead\n",
      "\n",
      "See the caveats in the documentation: http://pandas.pydata.org/pandas-docs/stable/user_guide/indexing.html#returning-a-view-versus-a-copy\n"
     ]
    }
   ],
   "source": [
    "label_batch(batch_3, stem_model_3)"
   ]
  },
  {
   "cell_type": "code",
   "execution_count": 43,
   "metadata": {},
   "outputs": [],
   "source": [
    "df_label_stem.drop(columns = ['level_0', 'index'], inplace=True)\n",
    "df_label_stem = df_label_stem.append(batch_3).reset_index()"
   ]
  },
  {
   "cell_type": "markdown",
   "metadata": {},
   "source": [
    "### Stem Model 4"
   ]
  },
  {
   "cell_type": "code",
   "execution_count": 44,
   "metadata": {},
   "outputs": [],
   "source": [
    "X = data_to_sequences(df_label_stem)\n",
    "y = pd.get_dummies(df_label_stem['sentiment']).values\n",
    "\n",
    "X_train_stem, X_test_stem, y_train_stem, y_test_stem = train_test_split(X, y, test_size = 0.2, random_state=0)"
   ]
  },
  {
   "cell_type": "code",
   "execution_count": 45,
   "metadata": {},
   "outputs": [
    {
     "name": "stdout",
     "output_type": "stream",
     "text": [
      "Train on 3786 samples, validate on 1623 samples\n",
      "Epoch 1/20\n",
      "3786/3786 [==============================] - 7s 2ms/step - loss: 1.8942 - acc: 0.4525 - val_loss: 1.5385 - val_acc: 0.4301\n",
      "Epoch 2/20\n",
      "3786/3786 [==============================] - 6s 2ms/step - loss: 1.2624 - acc: 0.5528 - val_loss: 1.0801 - val_acc: 0.5625\n",
      "Epoch 3/20\n",
      "3786/3786 [==============================] - 6s 2ms/step - loss: 0.8907 - acc: 0.6653 - val_loss: 0.9355 - val_acc: 0.6038\n",
      "Epoch 4/20\n",
      "3786/3786 [==============================] - 6s 2ms/step - loss: 0.7032 - acc: 0.7538 - val_loss: 0.8999 - val_acc: 0.6568\n",
      "Epoch 5/20\n",
      "3786/3786 [==============================] - 6s 2ms/step - loss: 0.5863 - acc: 0.7882 - val_loss: 0.8685 - val_acc: 0.6827\n",
      "Epoch 6/20\n",
      "3786/3786 [==============================] - 6s 2ms/step - loss: 0.5308 - acc: 0.7990 - val_loss: 0.8719 - val_acc: 0.6907\n",
      "Epoch 7/20\n",
      "3786/3786 [==============================] - 6s 2ms/step - loss: 0.4685 - acc: 0.8310 - val_loss: 0.8612 - val_acc: 0.6919\n",
      "Epoch 8/20\n",
      "3786/3786 [==============================] - 7s 2ms/step - loss: 0.4392 - acc: 0.8640 - val_loss: 0.8668 - val_acc: 0.6907\n",
      "Epoch 9/20\n",
      "3786/3786 [==============================] - 7s 2ms/step - loss: 0.3734 - acc: 0.8996 - val_loss: 0.9265 - val_acc: 0.6993\n",
      "Epoch 10/20\n",
      "3786/3786 [==============================] - 7s 2ms/step - loss: 0.3545 - acc: 0.9120 - val_loss: 0.8990 - val_acc: 0.6938\n",
      "Epoch 11/20\n",
      "3786/3786 [==============================] - 6s 2ms/step - loss: 0.3180 - acc: 0.9303 - val_loss: 0.9500 - val_acc: 0.6993\n",
      "Epoch 12/20\n",
      "3786/3786 [==============================] - 6s 2ms/step - loss: 0.2789 - acc: 0.9400 - val_loss: 0.9801 - val_acc: 0.7079\n",
      "Epoch 13/20\n",
      "3786/3786 [==============================] - 6s 2ms/step - loss: 0.2716 - acc: 0.9398 - val_loss: 1.0268 - val_acc: 0.6932\n",
      "Epoch 14/20\n",
      "3786/3786 [==============================] - 7s 2ms/step - loss: 0.2545 - acc: 0.9392 - val_loss: 1.0516 - val_acc: 0.7018\n",
      "Epoch 15/20\n",
      "3786/3786 [==============================] - 7s 2ms/step - loss: 0.2344 - acc: 0.9472 - val_loss: 1.0711 - val_acc: 0.6987\n",
      "Epoch 16/20\n",
      "3786/3786 [==============================] - 6s 2ms/step - loss: 0.2182 - acc: 0.9496 - val_loss: 1.0928 - val_acc: 0.6969\n",
      "Epoch 17/20\n",
      "3786/3786 [==============================] - 6s 2ms/step - loss: 0.2220 - acc: 0.9480 - val_loss: 1.0817 - val_acc: 0.6987\n",
      "Epoch 18/20\n",
      "3786/3786 [==============================] - 7s 2ms/step - loss: 0.2011 - acc: 0.9548 - val_loss: 1.1088 - val_acc: 0.7012\n",
      "Epoch 19/20\n",
      "3786/3786 [==============================] - 6s 2ms/step - loss: 0.1967 - acc: 0.9540 - val_loss: 1.1800 - val_acc: 0.7030\n",
      "Epoch 20/20\n",
      "3786/3786 [==============================] - 6s 2ms/step - loss: 0.1910 - acc: 0.9522 - val_loss: 1.1135 - val_acc: 0.7018\n"
     ]
    }
   ],
   "source": [
    "stem_model_4 = Sequential()\n",
    "\n",
    "embed_in = len(total_vocab_stem)\n",
    "embed_out = max(length_list)\n",
    "lambda_coeff = 0.1\n",
    "\n",
    "stem_model_4.add(Embedding(embed_in, embed_out))\n",
    "stem_model_4.add(LSTM(8, return_sequences=True))\n",
    "stem_model_4.add(GlobalMaxPool1D())\n",
    "stem_model_4.add(Dropout(0.4))\n",
    "stem_model_4.add(Dense(25, activation='tanh', kernel_regularizer=regularizers.l2(lambda_coeff)))\n",
    "stem_model_4.add(Dense(3, activation='softmax'))\n",
    "\n",
    "stem_model_4.compile(loss='categorical_crossentropy',\n",
    "                   optimizer='Adam',\n",
    "                   metrics=['accuracy'])\n",
    "\n",
    "stem_results_4 = stem_model_4.fit(X_train_stem, y_train_stem, epochs=20, batch_size=30, validation_split=0.3)"
   ]
  },
  {
   "cell_type": "code",
   "execution_count": 46,
   "metadata": {},
   "outputs": [
    {
     "data": {
      "image/png": "[encoded data removed]",
      "text/plain": [
       "<Figure size 432x288 with 1 Axes>"
      ]
     },
     "metadata": {
      "needs_background": "light"
     },
     "output_type": "display_data"
    },
    {
     "data": {
      "image/png": "[encoded data removed]",
      "text/plain": [
       "<Figure size 432x288 with 1 Axes>"
      ]
     },
     "metadata": {
      "needs_background": "light"
     },
     "output_type": "display_data"
    }
   ],
   "source": [
    "visualize_training_results(stem_results_4)"
   ]
  },
  {
   "cell_type": "markdown",
   "metadata": {},
   "source": [
    "#### Saving Model"
   ]
  },
  {
   "cell_type": "code",
   "execution_count": 47,
   "metadata": {},
   "outputs": [],
   "source": [
    "stem_model_4.save('models/stem_model_4')"
   ]
  },
  {
   "cell_type": "markdown",
   "metadata": {},
   "source": [
    "## Batch 4 And Stem Model 5"
   ]
  },
  {
   "cell_type": "markdown",
   "metadata": {},
   "source": [
    "### Batch 4"
   ]
  },
  {
   "cell_type": "code",
   "execution_count": 48,
   "metadata": {},
   "outputs": [
    {
     "name": "stderr",
     "output_type": "stream",
     "text": [
      "C:\\Users\\Steven\\anaconda3\\envs\\learn-env\\lib\\site-packages\\ipykernel_launcher.py:22: SettingWithCopyWarning: \n",
      "A value is trying to be set on a copy of a slice from a DataFrame.\n",
      "Try using .loc[row_indexer,col_indexer] = value instead\n",
      "\n",
      "See the caveats in the documentation: http://pandas.pydata.org/pandas-docs/stable/user_guide/indexing.html#returning-a-view-versus-a-copy\n"
     ]
    }
   ],
   "source": [
    "label_batch(batch_4, stem_model_4)"
   ]
  },
  {
   "cell_type": "code",
   "execution_count": 49,
   "metadata": {},
   "outputs": [],
   "source": [
    "df_label_stem.drop(columns = ['index'], inplace=True)\n",
    "df_label_stem = df_label_stem.append(batch_4).reset_index()"
   ]
  },
  {
   "cell_type": "markdown",
   "metadata": {},
   "source": [
    "### Stem Model 5"
   ]
  },
  {
   "cell_type": "code",
   "execution_count": 50,
   "metadata": {},
   "outputs": [],
   "source": [
    "X = data_to_sequences(df_label_stem)\n",
    "y = pd.get_dummies(df_label_stem['sentiment']).values\n",
    "\n",
    "X_train_stem, X_test_stem, y_train_stem, y_test_stem = train_test_split(X, y, test_size = 0.2, random_state=0)"
   ]
  },
  {
   "cell_type": "code",
   "execution_count": 51,
   "metadata": {},
   "outputs": [
    {
     "name": "stdout",
     "output_type": "stream",
     "text": [
      "Train on 5688 samples, validate on 2438 samples\n",
      "Epoch 1/20\n",
      "5688/5688 [==============================] - 11s 2ms/step - loss: 1.7068 - acc: 0.4506 - val_loss: 1.3004 - val_acc: 0.4446\n",
      "Epoch 2/20\n",
      "5688/5688 [==============================] - 11s 2ms/step - loss: 1.0357 - acc: 0.5819 - val_loss: 0.9066 - val_acc: 0.6177\n",
      "Epoch 3/20\n",
      "5688/5688 [==============================] - 10s 2ms/step - loss: 0.7274 - acc: 0.7326 - val_loss: 0.8106 - val_acc: 0.6936\n",
      "Epoch 4/20\n",
      "5688/5688 [==============================] - 10s 2ms/step - loss: 0.5408 - acc: 0.8402 - val_loss: 0.8290 - val_acc: 0.7084\n",
      "Epoch 5/20\n",
      "5688/5688 [==============================] - 9s 2ms/step - loss: 0.4402 - acc: 0.8692 - val_loss: 0.7887 - val_acc: 0.7219\n",
      "Epoch 6/20\n",
      "5688/5688 [==============================] - 10s 2ms/step - loss: 0.3663 - acc: 0.9056 - val_loss: 0.8084 - val_acc: 0.7334\n",
      "Epoch 7/20\n",
      "5688/5688 [==============================] - 10s 2ms/step - loss: 0.3172 - acc: 0.9202 - val_loss: 0.8157 - val_acc: 0.7375\n",
      "Epoch 8/20\n",
      "5688/5688 [==============================] - 10s 2ms/step - loss: 0.2799 - acc: 0.9339 - val_loss: 0.8586 - val_acc: 0.7404\n",
      "Epoch 9/20\n",
      "5688/5688 [==============================] - 10s 2ms/step - loss: 0.2619 - acc: 0.9369 - val_loss: 0.8971 - val_acc: 0.7379\n",
      "Epoch 10/20\n",
      "5688/5688 [==============================] - 10s 2ms/step - loss: 0.2468 - acc: 0.9406 - val_loss: 0.9209 - val_acc: 0.7330\n",
      "Epoch 11/20\n",
      "5688/5688 [==============================] - 10s 2ms/step - loss: 0.2334 - acc: 0.9422 - val_loss: 0.8830 - val_acc: 0.7387\n",
      "Epoch 12/20\n",
      "5688/5688 [==============================] - 10s 2ms/step - loss: 0.2153 - acc: 0.9499 - val_loss: 0.9513 - val_acc: 0.7400\n",
      "Epoch 13/20\n",
      "5688/5688 [==============================] - 10s 2ms/step - loss: 0.2024 - acc: 0.9525 - val_loss: 0.9725 - val_acc: 0.7400\n",
      "Epoch 14/20\n",
      "5688/5688 [==============================] - 10s 2ms/step - loss: 0.1909 - acc: 0.9575 - val_loss: 0.9912 - val_acc: 0.7404\n",
      "Epoch 15/20\n",
      "5688/5688 [==============================] - 10s 2ms/step - loss: 0.1864 - acc: 0.9538 - val_loss: 0.9880 - val_acc: 0.7375\n",
      "Epoch 16/20\n",
      "5688/5688 [==============================] - 10s 2ms/step - loss: 0.1798 - acc: 0.9568 - val_loss: 1.0228 - val_acc: 0.7428\n",
      "Epoch 17/20\n",
      "5688/5688 [==============================] - 10s 2ms/step - loss: 0.1835 - acc: 0.9541 - val_loss: 1.0071 - val_acc: 0.7400\n",
      "Epoch 18/20\n",
      "5688/5688 [==============================] - 10s 2ms/step - loss: 0.1651 - acc: 0.9585 - val_loss: 1.0788 - val_acc: 0.7313\n",
      "Epoch 19/20\n",
      "5688/5688 [==============================] - 10s 2ms/step - loss: 0.1582 - acc: 0.9601 - val_loss: 1.1153 - val_acc: 0.7338\n",
      "Epoch 20/20\n",
      "5688/5688 [==============================] - 10s 2ms/step - loss: 0.1493 - acc: 0.9633 - val_loss: 1.0977 - val_acc: 0.7334\n"
     ]
    }
   ],
   "source": [
    "stem_model_5 = Sequential()\n",
    "\n",
    "embed_in = len(total_vocab_stem)\n",
    "embed_out = max(length_list)\n",
    "lambda_coeff = 0.1\n",
    "\n",
    "stem_model_5.add(Embedding(embed_in, embed_out))\n",
    "stem_model_5.add(LSTM(8, return_sequences=True))\n",
    "stem_model_5.add(GlobalMaxPool1D())\n",
    "stem_model_5.add(Dropout(0.4))\n",
    "stem_model_5.add(Dense(25, activation='tanh', kernel_regularizer=regularizers.l2(lambda_coeff)))\n",
    "stem_model_5.add(Dense(3, activation='softmax'))\n",
    "\n",
    "stem_model_5.compile(loss='categorical_crossentropy',\n",
    "                   optimizer='Adam',\n",
    "                   metrics=['accuracy'])\n",
    "\n",
    "stem_results_5 = stem_model_5.fit(X_train_stem, y_train_stem, epochs=20, batch_size=30, validation_split=0.3)"
   ]
  },
  {
   "cell_type": "code",
   "execution_count": 52,
   "metadata": {},
   "outputs": [
    {
     "data": {
      "image/png": "[encoded data removed]",
      "text/plain": [
       "<Figure size 432x288 with 1 Axes>"
      ]
     },
     "metadata": {
      "needs_background": "light"
     },
     "output_type": "display_data"
    },
    {
     "data": {
      "image/png": "[encoded data removed]",
      "text/plain": [
       "<Figure size 432x288 with 1 Axes>"
      ]
     },
     "metadata": {
      "needs_background": "light"
     },
     "output_type": "display_data"
    }
   ],
   "source": [
    "visualize_training_results(stem_results_5)"
   ]
  },
  {
   "cell_type": "markdown",
   "metadata": {},
   "source": [
    "#### Saving Model"
   ]
  },
  {
   "cell_type": "code",
   "execution_count": 53,
   "metadata": {},
   "outputs": [],
   "source": [
    "stem_model_5.save('models/stem_model_5')"
   ]
  },
  {
   "cell_type": "markdown",
   "metadata": {},
   "source": [
    "# Conclusion"
   ]
  },
  {
   "cell_type": "markdown",
   "metadata": {},
   "source": [
    "Yay! All the data is labeled and a final model is made. **This model will be used to predict sentiment on live-streamed tweets about Amazon.** This can be found in the notebook **`twitter_streaming.ipynb`.** The following code just saves the `Tokenizer` and final `DataFrame` in case I need them again. Feel free to ignore it."
   ]
  },
  {
   "cell_type": "markdown",
   "metadata": {},
   "source": [
    "## Saving Tokenizer For Easy Loading In `twitter_streaming.ipynb`"
   ]
  },
  {
   "cell_type": "code",
   "execution_count": 54,
   "metadata": {},
   "outputs": [],
   "source": [
    "import pickle\n",
    "\n",
    "with open('models/tokenizer.pickle', 'wb') as handle:\n",
    "    pickle.dump(tokenizer, handle, protocol=pickle.HIGHEST_PROTOCOL)"
   ]
  },
  {
   "cell_type": "markdown",
   "metadata": {},
   "source": [
    "## Saving Final Labeled DataFrame"
   ]
  },
  {
   "cell_type": "code",
   "execution_count": 57,
   "metadata": {},
   "outputs": [],
   "source": [
    "df_label_stem.drop('index', inplace=True, axis=1)"
   ]
  },
  {
   "cell_type": "code",
   "execution_count": 60,
   "metadata": {},
   "outputs": [
    {
     "name": "stdout",
     "output_type": "stream",
     "text": [
      "<class 'pandas.core.frame.DataFrame'>\n",
      "RangeIndex: 10158 entries, 0 to 10157\n",
      "Data columns (total 2 columns):\n",
      "sentiment    10158 non-null int64\n",
      "tweet        10158 non-null object\n",
      "dtypes: int64(1), object(1)\n",
      "memory usage: 158.8+ KB\n"
     ]
    }
   ],
   "source": [
    "df_label_stem.info()"
   ]
  },
  {
   "cell_type": "code",
   "execution_count": 61,
   "metadata": {},
   "outputs": [],
   "source": [
    "df_label_stem.to_csv('models/labeled_dataframe.csv')"
   ]
  },
  {
   "cell_type": "markdown",
   "metadata": {},
   "source": [
    "### Saving Alt Version That Won't Load The Lists As Strings"
   ]
  },
  {
   "cell_type": "code",
   "execution_count": 62,
   "metadata": {},
   "outputs": [],
   "source": [
    "df_copy = df_label_stem.copy()"
   ]
  },
  {
   "cell_type": "code",
   "execution_count": 65,
   "metadata": {},
   "outputs": [
    {
     "data": {
      "text/plain": [
       "['webcomicart',\n",
       " 'thing',\n",
       " 'ive',\n",
       " 'practic',\n",
       " 'lot',\n",
       " 'mayb',\n",
       " 'pair',\n",
       " 'giant',\n",
       " 'breast',\n",
       " 'help',\n",
       " 'drown',\n",
       " 'neg',\n",
       " 'internet']"
      ]
     },
     "execution_count": 65,
     "metadata": {},
     "output_type": "execute_result"
    }
   ],
   "source": [
    "df_copy.tweet[0]"
   ]
  },
  {
   "cell_type": "code",
   "execution_count": 68,
   "metadata": {},
   "outputs": [
    {
     "name": "stderr",
     "output_type": "stream",
     "text": [
      "C:\\Users\\Steven\\anaconda3\\envs\\learn-env\\lib\\site-packages\\ipykernel_launcher.py:2: SettingWithCopyWarning: \n",
      "A value is trying to be set on a copy of a slice from a DataFrame\n",
      "\n",
      "See the caveats in the documentation: http://pandas.pydata.org/pandas-docs/stable/user_guide/indexing.html#returning-a-view-versus-a-copy\n",
      "  \n"
     ]
    }
   ],
   "source": [
    "for i in range(len(df_copy)):\n",
    "    df_copy.tweet[i] = \" \".join(df_copy.tweet[i])"
   ]
  },
  {
   "cell_type": "code",
   "execution_count": 69,
   "metadata": {},
   "outputs": [
    {
     "data": {
      "text/html": [
       "<div>\n",
       "<style scoped>\n",
       "    .dataframe tbody tr th:only-of-type {\n",
       "        vertical-align: middle;\n",
       "    }\n",
       "\n",
       "    .dataframe tbody tr th {\n",
       "        vertical-align: top;\n",
       "    }\n",
       "\n",
       "    .dataframe thead th {\n",
       "        text-align: right;\n",
       "    }\n",
       "</style>\n",
       "<table border=\"1\" class=\"dataframe\">\n",
       "  <thead>\n",
       "    <tr style=\"text-align: right;\">\n",
       "      <th></th>\n",
       "      <th>sentiment</th>\n",
       "      <th>tweet</th>\n",
       "    </tr>\n",
       "  </thead>\n",
       "  <tbody>\n",
       "    <tr>\n",
       "      <td>0</td>\n",
       "      <td>3</td>\n",
       "      <td>webcomicart thing ive practic lot mayb pair giant breast help drown neg internet</td>\n",
       "    </tr>\n",
       "    <tr>\n",
       "      <td>1</td>\n",
       "      <td>1</td>\n",
       "      <td>latenight phone call miss kid murder famili one talk promis made kept though might mean 15 yr old death kdp select amazon print</td>\n",
       "    </tr>\n",
       "    <tr>\n",
       "      <td>2</td>\n",
       "      <td>3</td>\n",
       "      <td>would mix medicin stuff help smell strong hard notic there anyth els mix</td>\n",
       "    </tr>\n",
       "    <tr>\n",
       "      <td>3</td>\n",
       "      <td>3</td>\n",
       "      <td>best beliv imma take advantag amazon prime account</td>\n",
       "    </tr>\n",
       "    <tr>\n",
       "      <td>4</td>\n",
       "      <td>2</td>\n",
       "      <td>well check gluttoni alreadi avail purchas ’ look stori demand boss suddenli discov desper realli need tast assist ’ cream today lucki day</td>\n",
       "    </tr>\n",
       "    <tr>\n",
       "      <td>...</td>\n",
       "      <td>...</td>\n",
       "      <td>...</td>\n",
       "    </tr>\n",
       "    <tr>\n",
       "      <td>10153</td>\n",
       "      <td>3</td>\n",
       "      <td>econom driver amazon fire</td>\n",
       "    </tr>\n",
       "    <tr>\n",
       "      <td>10154</td>\n",
       "      <td>2</td>\n",
       "      <td>5 excel read couldnt put</td>\n",
       "    </tr>\n",
       "    <tr>\n",
       "      <td>10155</td>\n",
       "      <td>3</td>\n",
       "      <td>darkest lie ever told cost million live protect marco arrigoni will sacrific one life expos it—hi packag one man ’ battl truth amazon</td>\n",
       "    </tr>\n",
       "    <tr>\n",
       "      <td>10156</td>\n",
       "      <td>1</td>\n",
       "      <td>cautionari tale could possibl happen environment protect dissolv amp water amp air becom pollutedit frighten say least night sciuru</td>\n",
       "    </tr>\n",
       "    <tr>\n",
       "      <td>10157</td>\n",
       "      <td>2</td>\n",
       "      <td>senran kagura burst newal custom edit playstat 4 654 peso</td>\n",
       "    </tr>\n",
       "  </tbody>\n",
       "</table>\n",
       "<p>10158 rows × 2 columns</p>\n",
       "</div>"
      ],
      "text/plain": [
       "       sentiment  \\\n",
       "0      3           \n",
       "1      1           \n",
       "2      3           \n",
       "3      3           \n",
       "4      2           \n",
       "...   ..           \n",
       "10153  3           \n",
       "10154  2           \n",
       "10155  3           \n",
       "10156  1           \n",
       "10157  2           \n",
       "\n",
       "                                                                                                                                           tweet  \n",
       "0      webcomicart thing ive practic lot mayb pair giant breast help drown neg internet                                                           \n",
       "1      latenight phone call miss kid murder famili one talk promis made kept though might mean 15 yr old death kdp select amazon print            \n",
       "2      would mix medicin stuff help smell strong hard notic there anyth els mix                                                                   \n",
       "3      best beliv imma take advantag amazon prime account                                                                                         \n",
       "4      well check gluttoni alreadi avail purchas ’ look stori demand boss suddenli discov desper realli need tast assist ’ cream today lucki day  \n",
       "...                                                                                                                                          ...  \n",
       "10153  econom driver amazon fire                                                                                                                  \n",
       "10154  5 excel read couldnt put                                                                                                                   \n",
       "10155  darkest lie ever told cost million live protect marco arrigoni will sacrific one life expos it—hi packag one man ’ battl truth amazon      \n",
       "10156  cautionari tale could possibl happen environment protect dissolv amp water amp air becom pollutedit frighten say least night sciuru        \n",
       "10157  senran kagura burst newal custom edit playstat 4 654 peso                                                                                  \n",
       "\n",
       "[10158 rows x 2 columns]"
      ]
     },
     "execution_count": 69,
     "metadata": {},
     "output_type": "execute_result"
    }
   ],
   "source": [
    "df_copy"
   ]
  },
  {
   "cell_type": "code",
   "execution_count": 70,
   "metadata": {},
   "outputs": [],
   "source": [
    "df_copy.to_csv('models/df_copy.csv')"
   ]
  },
  {
   "cell_type": "code",
   "execution_count": 71,
   "metadata": {
    "scrolled": true
   },
   "outputs": [
    {
     "data": {
      "text/plain": [
       "str"
      ]
     },
     "execution_count": 71,
     "metadata": {},
     "output_type": "execute_result"
    }
   ],
   "source": [
    "type(df_copy.tweet[0])"
   ]
  }
 ],
 "metadata": {
  "kernelspec": {
   "display_name": "Python [conda env:learn-env] *",
   "language": "python",
   "name": "conda-env-learn-env-py"
  },
  "language_info": {
   "codemirror_mode": {
    "name": "ipython",
    "version": 3
   },
   "file_extension": ".py",
   "mimetype": "text/x-python",
   "name": "python",
   "nbconvert_exporter": "python",
   "pygments_lexer": "ipython3",
   "version": "3.6.9"
  },
  "toc": {
   "base_numbering": 1,
   "nav_menu": {},
   "number_sections": true,
   "sideBar": true,
   "skip_h1_title": false,
   "title_cell": "Table of Contents",
   "title_sidebar": "Contents",
   "toc_cell": false,
   "toc_position": {},
   "toc_section_display": true,
   "toc_window_display": false
  },
  "varInspector": {
   "cols": {
    "lenName": 16,
    "lenType": 16,
    "lenVar": 40
   },
   "kernels_config": {
    "python": {
     "delete_cmd_postfix": "",
     "delete_cmd_prefix": "del ",
     "library": "var_list.py",
     "varRefreshCmd": "print(var_dic_list())"
    },
    "r": {
     "delete_cmd_postfix": ") ",
     "delete_cmd_prefix": "rm(",
     "library": "var_list.r",
     "varRefreshCmd": "cat(var_dic_list()) "
    }
   },
   "types_to_exclude": [
    "module",
    "function",
    "builtin_function_or_method",
    "instance",
    "_Feature"
   ],
   "window_display": false
  }
 },
 "nbformat": 4,
 "nbformat_minor": 2
}
