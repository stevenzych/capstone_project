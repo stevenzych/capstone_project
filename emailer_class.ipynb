{
 "cells": [
  {
   "cell_type": "markdown",
   "metadata": {},
   "source": [
    "# Introduction\n",
    "\n",
    "In this notebook, I build a class **`Emailer`** to **distribute work to human employees,** namely follow-up conversations with users who have expressed interest in working with a brand. This class is incorporated in the class **`Stream`** in the notebook `twitter_streaming.ipynb`."
   ]
  },
  {
   "cell_type": "markdown",
   "metadata": {},
   "source": [
    "# Libraries"
   ]
  },
  {
   "cell_type": "code",
   "execution_count": 7,
   "metadata": {},
   "outputs": [],
   "source": [
    "import smtplib"
   ]
  },
  {
   "cell_type": "markdown",
   "metadata": {},
   "source": [
    "# `Emailer` Class\n",
    "\n",
    "This class instantiates an **STMP server** for emailing employees and provides the method `assign_chat()` to easily dish out different tasks to different employees."
   ]
  },
  {
   "cell_type": "code",
   "execution_count": 40,
   "metadata": {},
   "outputs": [],
   "source": [
    "class Emailer:\n",
    "\n",
    "    '''\n",
    "    Class designed to email users.\n",
    "    ---\n",
    "    sender_email\n",
    "        User email that emails are sent from.\n",
    "    password\n",
    "        Password associated with email. May need to be set to app password on\n",
    "        your email service.\n",
    "    '''\n",
    "\n",
    "    def __init__(self, sender_email, password):\n",
    "        self.sender_email = str(sender_email)\n",
    "        self.password = str(password)\n",
    "        self.server = smtplib.SMTP('smtp.gmail.com', 587)\n",
    "    \n",
    "    def assign_chat(self, rec_email, user_id):\n",
    "        \n",
    "        '''\n",
    "        Sends an email containing a user ID to an employee.\n",
    "        ---\n",
    "        rec_email\n",
    "            The recipient email, i.e. the employee being emailed.\n",
    "        user_id\n",
    "            The unique ID of a Twitter user. Should be string.\n",
    "        '''\n",
    "        \n",
    "        self.server.starttls()\n",
    "        self.server.login(sender_email, password)\n",
    "        message = f\"Subject: New Contact!\\n\\nUser at ID {user_id} wants to collaborate!\"\n",
    "        self.server.sendmail(self.sender_email, rec_email, message)"
   ]
  },
  {
   "cell_type": "markdown",
   "metadata": {},
   "source": [
    "## Example\n",
    "\n",
    "In the example below, we first instantiate an `Emailer` object and pass it our own email and password.\n",
    "> **Tip:** If you try this yourself with Gmail you'll need to [set up an app password](https://support.google.com/accounts/answer/185833) for it to work.\n",
    "\n",
    "After that, we call the method `assign_chat()`, to which we pass the ID of an interested Twitter user and the email of the employee who will be tasked with talking to said user."
   ]
  },
  {
   "cell_type": "code",
   "execution_count": 41,
   "metadata": {},
   "outputs": [],
   "source": [
    "emailer = Emailer(sender_email = \"boss@company.com\",\n",
    "                  password = \"password\")"
   ]
  },
  {
   "cell_type": "code",
   "execution_count": 42,
   "metadata": {},
   "outputs": [],
   "source": [
    "emailer.assign_chat(rec_email = 'employee@company.com',\n",
    "                    user_id = '1234567890')"
   ]
  }
 ],
 "metadata": {
  "kernelspec": {
   "display_name": "Python 3",
   "language": "python",
   "name": "python3"
  },
  "language_info": {
   "codemirror_mode": {
    "name": "ipython",
    "version": 3
   },
   "file_extension": ".py",
   "mimetype": "text/x-python",
   "name": "python",
   "nbconvert_exporter": "python",
   "pygments_lexer": "ipython3",
   "version": "3.7.6"
  },
  "toc": {
   "base_numbering": 1,
   "nav_menu": {},
   "number_sections": true,
   "sideBar": true,
   "skip_h1_title": false,
   "title_cell": "Table of Contents",
   "title_sidebar": "Contents",
   "toc_cell": false,
   "toc_position": {},
   "toc_section_display": true,
   "toc_window_display": false
  },
  "varInspector": {
   "cols": {
    "lenName": 16,
    "lenType": 16,
    "lenVar": 40
   },
   "kernels_config": {
    "python": {
     "delete_cmd_postfix": "",
     "delete_cmd_prefix": "del ",
     "library": "var_list.py",
     "varRefreshCmd": "print(var_dic_list())"
    },
    "r": {
     "delete_cmd_postfix": ") ",
     "delete_cmd_prefix": "rm(",
     "library": "var_list.r",
     "varRefreshCmd": "cat(var_dic_list()) "
    }
   },
   "types_to_exclude": [
    "module",
    "function",
    "builtin_function_or_method",
    "instance",
    "_Feature"
   ],
   "window_display": false
  }
 },
 "nbformat": 4,
 "nbformat_minor": 4
}
